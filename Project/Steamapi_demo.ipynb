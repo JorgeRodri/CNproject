{
 "cells": [
  {
   "cell_type": "code",
   "execution_count": 10,
   "metadata": {
    "collapsed": false
   },
   "outputs": [
    {
     "name": "stderr",
     "output_type": "stream",
     "text": [
      " * Running on http://127.0.0.1:5000/ (Press CTRL+C to quit)\n"
     ]
    }
   ],
   "source": [
    "from flask import Flask, render_template\n",
    "from steamapi import core, user\n",
    "\n",
    "app = Flask(\"Steamer\")\n",
    "core.APIConnection(api_key=\"2A526C7C2F3CEB0307B864A8DD15D320\")\n",
    "\n",
    "@app.route('/user/<name>')\n",
    "def hello(name=None):\n",
    "  try:\n",
    "    try:\n",
    "      steam_user = user.SteamUser(userid=int(name))\n",
    "    except ValueError: # Not an ID, but a vanity URL.\n",
    "      steam_user = user.SteamUser(userurl=name)\n",
    "    name = steam_user.name\n",
    "    content = \"Your real name is {0}. You have {1} friends and {2} games.\".format(steam_user.real_name,\n",
    "                                                                                  len(steam_user.friends),\n",
    "                                                                                  len(steam_user.games))\n",
    "    img = steam_user.avatar\n",
    "    return render_template('hello.html', name=name, content=content, img=img)\n",
    "  except Exception as ex:\n",
    "    # We might not have permission to the user's friends list or games, so just carry on with a blank message.\n",
    "    return render_template('hello.html', name=name)\n",
    "  \n",
    "if __name__ == '__main__':\n",
    "  app.run()"
   ]
  },
  {
   "cell_type": "code",
   "execution_count": 2,
   "metadata": {
    "collapsed": false
   },
   "outputs": [
    {
     "name": "stdout",
     "output_type": "stream",
     "text": [
      "205.299000025\n"
     ]
    }
   ],
   "source": [
    "import steamapi\n",
    "import time\n",
    "import random\n",
    "steamapi.core.APIConnection(api_key=\"2A526C7C2F3CEB0307B864A8DD15D320\", validate_key=True)  # <-- Insert API key here\n",
    "me=steamapi.user.SteamUser(userurl=\"m3t4lchaos\")  # For http://steamcommunity.com/id/smileybarry\n",
    "\n",
    "n=0\n",
    "l=[]\n",
    "user=me\n",
    "t1=time.time()\n",
    "while n<1000:\n",
    "    public_friends=[i for i in user.friends if i.privacy!=1]\n",
    "    for friend in public_friends:\n",
    "        if friend not in l:\n",
    "            l.append(friend)\n",
    "            n+=1\n",
    "        if n>1000:\n",
    "            break\n",
    "    user=random.choice(public_friends)\n",
    "t2=time.time()\n",
    "enlapsed_time=t2-t1\n",
    "print enlapsed_time\n",
    "\n",
    "#me.level\n",
    "#friend=random.choice(me.friends)\n",
    "#print friend.friends"
   ]
  },
  {
   "cell_type": "markdown",
   "metadata": {},
   "source": [
    "** For 1000 profiles, a time of 156 seconds was needed. **"
   ]
  },
  {
   "cell_type": "code",
   "execution_count": 53,
   "metadata": {
    "collapsed": false
   },
   "outputs": [
    {
     "data": {
      "text/plain": [
       "3"
      ]
     },
     "execution_count": 53,
     "metadata": {},
     "output_type": "execute_result"
    }
   ],
   "source": [
    "steamapi.core.APIConnection(api_key=\"2A526C7C2F3CEB0307B864A8DD15D320\", validate_key=True)  # <-- Insert API key here\n",
    "me=steamapi.user.SteamUser(userurl=\"m3t4lchaos\")  # For http://steamcommunity.com/id/smileybarry\n",
    "me.privacy"
   ]
  },
  {
   "cell_type": "markdown",
   "metadata": {},
   "source": [
    "Interesting methods: .games, .privacy, .level, .groups, .friends, .recently_played, .owned_games, .playtime_forever (time in minutes), .playtime_2weeks"
   ]
  },
  {
   "cell_type": "code",
   "execution_count": 26,
   "metadata": {
    "collapsed": false
   },
   "outputs": [],
   "source": [
    "X=l[20].games\n",
    "h=[i.playtime_forever for i in l[20].games]\n",
    "keydict = dict(zip(X, h))\n",
    "X.sort(key=keydict.get)"
   ]
  },
  {
   "cell_type": "code",
   "execution_count": null,
   "metadata": {
    "collapsed": false
   },
   "outputs": [],
   "source": []
  }
 ],
 "metadata": {
  "anaconda-cloud": {},
  "kernelspec": {
   "display_name": "Python [conda root]",
   "language": "python",
   "name": "conda-root-py"
  },
  "language_info": {
   "codemirror_mode": {
    "name": "ipython",
    "version": 2
   },
   "file_extension": ".py",
   "mimetype": "text/x-python",
   "name": "python",
   "nbconvert_exporter": "python",
   "pygments_lexer": "ipython2",
   "version": "2.7.12"
  }
 },
 "nbformat": 4,
 "nbformat_minor": 1
}
